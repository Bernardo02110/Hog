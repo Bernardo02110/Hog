{
  "nbformat": 4,
  "nbformat_minor": 0,
  "metadata": {
    "colab": {
      "provenance": [],
      "toc_visible": true
    },
    "kernelspec": {
      "name": "python3",
      "display_name": "Python 3"
    },
    "language_info": {
      "name": "python"
    }
  },
  "cells": [
    {
      "cell_type": "code",
      "source": [
        "from google.colab import drive\n",
        "\n",
        "drive.mount('/content/gdrive')"
      ],
      "metadata": {
        "id": "zXd1U25kLpI-",
        "colab": {
          "base_uri": "https://localhost:8080/"
        },
        "outputId": "4c19555f-c44b-41fb-c329-4c2f73dc4b38"
      },
      "execution_count": 80,
      "outputs": [
        {
          "output_type": "stream",
          "name": "stdout",
          "text": [
            "Drive already mounted at /content/gdrive; to attempt to forcibly remount, call drive.mount(\"/content/gdrive\", force_remount=True).\n"
          ]
        }
      ]
    },
    {
      "cell_type": "code",
      "source": [
        "import numpy as np\n",
        "import cv2\n",
        "import matplotlib.pyplot as plt"
      ],
      "metadata": {
        "id": "_NIYavTRNU_W"
      },
      "execution_count": 81,
      "outputs": []
    },
    {
      "cell_type": "code",
      "source": [
        "img = cv2.imread(\"/content/gdrive/MyDrive/Trabalho Quarta/4.jpg\")\n",
        "\n",
        "imagem = cv2.cvtColor(img, cv2.COLOR_BGR2GRAY)\n",
        "\n",
        "tamanho_kernel = (5, 5)\n",
        "\n",
        "desvio_padrao = (tamanho_kernel[0] - 1) / 2\n",
        "\n",
        "image = cv2.GaussianBlur(imagem, tamanho_kernel, desvio_padrao)"
      ],
      "metadata": {
        "id": "fVVYyWPuKAKp"
      },
      "execution_count": 82,
      "outputs": []
    },
    {
      "cell_type": "code",
      "source": [
        "#Redimensione a imagem (altura e largura) para um múltiplo de 8.\n",
        "\n",
        "# Obter a altura e largura da imagem\n",
        "height, width = image.shape[:2]\n",
        "\n",
        "# Calcular o novo tamanho para ser múltiplo de 8\n",
        "new_height = height - (height % 8)\n",
        "new_width = width - (width % 8)\n",
        "\n",
        "# Redimensionar a imagem para o novo tamanho\n",
        "resized_image = image[:new_height, :new_width]"
      ],
      "metadata": {
        "id": "cpUOIYXhMy5Z"
      },
      "execution_count": 83,
      "outputs": []
    },
    {
      "cell_type": "code",
      "source": [
        "#Achar a magnitude e orientação de cada pixel\n",
        "\n",
        "# Aplicar os filtros para calcular os gradientes\n",
        "gradient_largura = cv2.filter2D(resized_image, cv2.CV_64F, np.array([[-1, 0, 1]]))\n",
        "gradient_altura = cv2.filter2D(resized_image, cv2.CV_64F, np.array([[-1], [0], [1]]))\n",
        "\n",
        "# Calcular a magnitude\n",
        "magnitude = np.sqrt(gradient_largura ** 2 + gradient_altura ** 2)\n",
        "\n",
        "# Calcular a orientação\n",
        "orientation = np.arctan2(gradient_altura, gradient_largura)\n",
        "\n",
        "# Converter a orientação de radianos para graus\n",
        "orientation = np.degrees(orientation)"
      ],
      "metadata": {
        "id": "G8b397V9Nu66"
      },
      "execution_count": 84,
      "outputs": []
    },
    {
      "cell_type": "code",
      "source": [
        "#Dividir a imagem em células de 8x8 pixels\n",
        "#Para cada célula 8x8, calcula-se um histograma de orientações.\n",
        "\n",
        "# Calcular o número de células em cada dimensão\n",
        "num_celulas_largura = new_width // 8\n",
        "num_celulas_altura = new_height// 8\n",
        "\n",
        "histogram =  np.zeros((num_celulas_altura, num_celulas_largura, 9),dtype=np.float32)\n",
        "\n",
        "# Percorrer as células e calcular os histogramas de orientações\n",
        "for i in range(num_celulas_altura):\n",
        "    for j in range(num_celulas_largura):\n",
        "\n",
        "        # Extrair a célula dos gradientes e da orientação\n",
        "        celula_orientacao = orientation[i*8:(i+1)*8, j*8:(j+1)*8]\n",
        "        celula_magnitude = magnitude[i*8:(i+1)*8, j*8:(j+1)*8]\n",
        "        \n",
        "        # Calcular o histograma de orientações para a célula\n",
        "        hist, _ = np.histogram(celula_orientacao, bins=9, range=(-np.pi, np.pi), weights=celula_magnitude)\n",
        "\n",
        "        # Armazena o histograma\n",
        "        histogram[i,j] = hist"
      ],
      "metadata": {
        "id": "LoVzmNI3MnoJ"
      },
      "execution_count": 85,
      "outputs": []
    },
    {
      "cell_type": "code",
      "source": [
        "#Agrupe 4 células em um bloco 16x16 (2 células de largura e 2 de altura)\n",
        "#Normalize os valores de cada bloco utilizando L2\n",
        "\n",
        "tam_bloco = 16\n",
        "\n",
        "c_bloco = tam_bloco //8\n",
        "\n",
        "num_blocos_largura = num_celulas_largura - c_bloco + 1\n",
        "num_blocos_altura = num_celulas_altura - c_bloco + 1\n",
        "\n",
        "histogram_blocos =  np.zeros((num_blocos_altura, num_blocos_largura, c_bloco**2 * 9),dtype=np.float32)\n",
        "\n",
        "for i in range(num_blocos_altura):\n",
        "    for j in range(num_blocos_largura):\n",
        "\n",
        "      #Pega celulas\n",
        "      bloco = histogram[i:i+c_bloco, j:j+c_bloco]\n",
        "\n",
        "      #Unificando\n",
        "      new_histogram = bloco.flatten()\n",
        "\n",
        "      #L2\n",
        "      new_histogram = c_bloco/ np.sqrt(np.sum(c_bloco**2))\n",
        "\n",
        "      #Guadar em uma matriz\n",
        "      histogram_blocos[i,j] = new_histogram"
      ],
      "metadata": {
        "id": "G4ytmf48SbuD"
      },
      "execution_count": 86,
      "outputs": []
    },
    {
      "cell_type": "code",
      "source": [
        "#Descrito Hog é a concatenação dos valores normalizados de cada bloco.\n",
        "\n",
        "descritor_hog = histogram_blocos.reshape(num_blocos_largura * num_blocos_altura, -1)"
      ],
      "metadata": {
        "id": "9uNr8jDULvgr"
      },
      "execution_count": 87,
      "outputs": []
    },
    {
      "cell_type": "code",
      "source": [
        "#Para visualizá-lo utiliza-se as orientações nos histogramas das células, feito no passo 3. \n",
        "\n",
        "hog_flatted = descritor_hog.flatten()\n",
        "hog_flatted_len = len(hog_flatted)\n",
        "descritor_hog_flatted_arange = np.arange(hog_flatted_len)\n",
        "\n",
        "plt.bar(descritor_hog_flatted_arange, descritor_hog_flatted_arange)\n",
        "plt.show() "
      ],
      "metadata": {
        "colab": {
          "base_uri": "https://localhost:8080/",
          "height": 430
        },
        "id": "2jB3zCx9YTTB",
        "outputId": "c198e56e-d26a-4489-c02d-b09e186f9a0b"
      },
      "execution_count": 88,
      "outputs": [
        {
          "output_type": "display_data",
          "data": {
            "text/plain": [
              "<Figure size 640x480 with 1 Axes>"
            ],
            "image/png": "[encoded data removed]"
          },
          "metadata": {}
        }
      ]
    }
  ]
}